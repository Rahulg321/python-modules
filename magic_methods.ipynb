{
 "cells": [
  {
   "cell_type": "code",
   "execution_count": 7,
   "metadata": {},
   "outputs": [
    {
     "name": "stdout",
     "output_type": "stream",
     "text": [
      "gurpreet-kaur-98000\n",
      "Employee(gurpreet,kaur,98000)\n",
      "gurpreet-kaur-98000\n"
     ]
    }
   ],
   "source": [
    "class Employee:\n",
    "    raise_amt = 1.04\n",
    "    \n",
    "    def __init__(self,first,last,pay):\n",
    "        self.first = first\n",
    "        self.last = last\n",
    "        self.pay = pay\n",
    "    \n",
    "    #repr -> representation of an object used for debugging\n",
    "    def __repr__(self):\n",
    "        return f'Employee({self.first},{self.last},{self.pay})'\n",
    "    \n",
    "    #repr -> representation of an object for the end user\n",
    "    def __str__(self):\n",
    "        return f'{self.first}-{self.last}-{self.pay}'\n",
    "    \n",
    "    \n",
    "\n",
    "emp_1 = Employee('gurpreet', 'kaur', 98000)\n",
    "emp_2 = Employee('norman', 'sandhu', 98000)\n",
    "\n",
    "\n",
    "print(emp_1)\n",
    "\n",
    "print(repr(emp_1))\n",
    "print(str(emp_1))"
   ]
  },
  {
   "cell_type": "code",
   "execution_count": 8,
   "metadata": {},
   "outputs": [
    {
     "name": "stdout",
     "output_type": "stream",
     "text": [
      "gurpreet-kaur-98000\n",
      "Employee(gurpreet,kaur,98000)\n",
      "gurpreet-kaur-98000\n"
     ]
    }
   ],
   "source": [
    "class Employee:\n",
    "    raise_amt = 1.04\n",
    "    \n",
    "    def __init__(self,first,last,pay):\n",
    "        self.first = first\n",
    "        self.last = last\n",
    "        self.pay = pay\n",
    "    \n",
    "   #minimun reqd -> should always be created \n",
    "   #should return something that can be used to create that object again\n",
    "    def __repr__(self):\n",
    "        return f'Employee({self.first},{self.last},{self.pay})'\n",
    "    \n",
    "    #repr -> representation of an object for the end user\n",
    "    def __str__(self):\n",
    "        return f'{self.first}-{self.last}-{self.pay}'\n",
    "    \n",
    "    \n",
    "\n",
    "emp_1 = Employee('gurpreet', 'kaur', 98000)\n",
    "emp_2 = Employee('norman', 'sandhu', 98000)\n",
    "\n",
    "print(emp_1)\n",
    "\n",
    "print(repr(emp_1))\n",
    "print(str(emp_1))"
   ]
  },
  {
   "attachments": {},
   "cell_type": "markdown",
   "metadata": {},
   "source": [
    "property decorator allows us to define a method but we can access it like an atrribute\n",
    "getters -> helps us to access private attributes in a class \n",
    "setters -> helps us to set private attributes in a class"
   ]
  },
  {
   "cell_type": "code",
   "execution_count": 17,
   "metadata": {},
   "outputs": [
    {
     "name": "stdout",
     "output_type": "stream",
     "text": [
      "gurpreet\n",
      "gurpreet.kaur@company.com\n",
      "gurpreet.kaur\n",
      "Riya\n",
      "Riya.upveja@company.com\n",
      "Riya.upveja\n",
      "DELETE NAME\n"
     ]
    }
   ],
   "source": [
    "class Employee:\n",
    "    raise_amt = 1.04\n",
    "    \n",
    "    def __init__(self,first,last,pay):\n",
    "        self.first = first\n",
    "        self.last = last\n",
    "        self.pay = pay\n",
    "        \n",
    "    @property\n",
    "    def fullname(self):\n",
    "        return f'{self.first}.{self.last}'\n",
    "    \n",
    "    @property\n",
    "    def email(self):\n",
    "        return f'{self.first}.{self.last}@company.com'\n",
    "    \n",
    "    @fullname.setter\n",
    "    def fullname(self, name):\n",
    "        first, last  = name.split(' ')\n",
    "        self.first = first\n",
    "        self.last = last\n",
    "        \n",
    "        \n",
    "    @fullname.deleter\n",
    "    def fullname(self):\n",
    "        print('DELETE NAME')\n",
    "        self.first = None\n",
    "        self.last = None\n",
    "    \n",
    "emp_1 = Employee('gurpreet', 'kaur', 98000)\n",
    "emp_2 = Employee('norman', 'sandhu', 845623)\n",
    "\n",
    "print(emp_1.first)\n",
    "print(emp_1.email)\n",
    "print(emp_1.fullname)\n",
    "\n",
    "emp_1.fullname = 'Riya upveja'\n",
    "\n",
    "print(emp_1.first)\n",
    "print(emp_1.email)\n",
    "print(emp_1.fullname)\n",
    "\n",
    "\n",
    "del emp_1.fullname"
   ]
  },
  {
   "cell_type": "code",
   "execution_count": null,
   "metadata": {},
   "outputs": [],
   "source": []
  }
 ],
 "metadata": {
  "kernelspec": {
   "display_name": "base",
   "language": "python",
   "name": "python3"
  },
  "language_info": {
   "codemirror_mode": {
    "name": "ipython",
    "version": 3
   },
   "file_extension": ".py",
   "mimetype": "text/x-python",
   "name": "python",
   "nbconvert_exporter": "python",
   "pygments_lexer": "ipython3",
   "version": "3.9.13"
  },
  "orig_nbformat": 4
 },
 "nbformat": 4,
 "nbformat_minor": 2
}
